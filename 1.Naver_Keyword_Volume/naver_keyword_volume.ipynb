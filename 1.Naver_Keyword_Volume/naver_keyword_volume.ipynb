{
 "cells": [
  {
   "cell_type": "code",
   "execution_count": 1,
   "metadata": {},
   "outputs": [],
   "source": [
    "from selenium import webdriver\n",
    "import time\n",
    "import numpy as np\n",
    "import pandas as pd"
   ]
  },
  {
   "cell_type": "markdown",
   "metadata": {},
   "source": [
    "### 드라이버 위치"
   ]
  },
  {
   "cell_type": "code",
   "execution_count": 28,
   "metadata": {},
   "outputs": [],
   "source": [
    "driver = webdriver.Chrome('C:/driver/chromedriver')\n",
    "#driver = webdriver.Chrome('C:\\\\Users\\\\Administrator\\\\chromedriver')"
   ]
  },
  {
   "cell_type": "code",
   "execution_count": 29,
   "metadata": {},
   "outputs": [],
   "source": [
    "driver.get('https://manage.searchad.naver.com/customers/1488201/tool/keyword-planner')"
   ]
  },
  {
   "cell_type": "markdown",
   "metadata": {},
   "source": [
    "### 네이버로그인 누른 뒤 아이디 비번 입력해야될듯"
   ]
  },
  {
   "cell_type": "code",
   "execution_count": 25,
   "metadata": {},
   "outputs": [],
   "source": [
    "loginbtn=driver.find_element_by_css_selector('#container > div > div > div:nth-child(5) > button > span')\n",
    "loginbtn.click()"
   ]
  },
  {
   "cell_type": "markdown",
   "metadata": {},
   "source": [
    "### 아이디\\t비번\\n"
   ]
  },
  {
   "cell_type": "code",
   "execution_count": 24,
   "metadata": {},
   "outputs": [],
   "source": [
    "# 여기 로그인 방지문자 나오면 ㅈㅈ\n",
    "elem=driver.find_element_by_css_selector('#id')\n",
    "# 아이디\\t비번\\n\n",
    "elem.send_keys('jju1183\\twjswodnrsla12\\n')"
   ]
  },
  {
   "cell_type": "markdown",
   "metadata": {},
   "source": [
    "### 검색할 키워드\n",
    "### 키워드\\n키워드\\n키워드"
   ]
  },
  {
   "cell_type": "code",
   "execution_count": 33,
   "metadata": {},
   "outputs": [],
   "source": [
    "keyword=driver.find_element_by_css_selector('#wrap > div > div > div.content > div.page-content-wrapper > div > div > div > div.row > div.col-xs-9.reduce-padding > div:nth-child(1) > div.panel-body > form > div:nth-child(1) > div > div > textarea')\n",
    "keyword.send_keys('괌롯데호텔\\n롯데호텔')\n"
   ]
  },
  {
   "cell_type": "code",
   "execution_count": 34,
   "metadata": {},
   "outputs": [],
   "source": [
    "lookupbtn=driver.find_element_by_css_selector('#wrap > div > div > div.content > div.page-content-wrapper > div > div > div > div.row > div.col-xs-9.reduce-padding > div:nth-child(1) > div.panel-body > form > div.col-xs-12.bg-fill-white > div > div > ul > li > button')\n",
    "lookupbtn.click()"
   ]
  },
  {
   "cell_type": "code",
   "execution_count": 35,
   "metadata": {},
   "outputs": [],
   "source": [
    "lookuplist=driver.find_elements_by_css_selector('#wrap > div > div > div.content > div.page-content-wrapper > div > div > div > div.row > div.col-xs-9.reduce-padding > div.panel-wrap.panel.panel-default > div.widget-wrap.compact-tb.bfx4pn.ng-isolate-scope > div > div > table > tbody > tr')"
   ]
  },
  {
   "cell_type": "code",
   "execution_count": 36,
   "metadata": {},
   "outputs": [
    {
     "data": {
      "text/plain": [
       "100"
      ]
     },
     "execution_count": 36,
     "metadata": {},
     "output_type": "execute_result"
    }
   ],
   "source": [
    "len(lookuplist) # 1페이지에 키워드 100개 나옴"
   ]
  },
  {
   "cell_type": "code",
   "execution_count": 38,
   "metadata": {},
   "outputs": [],
   "source": [
    "lookuplist[0].find_elements_by_css_selector('td')[1].find_element_by_css_selector('span > span').click()"
   ]
  },
  {
   "cell_type": "markdown",
   "metadata": {},
   "source": [
    "### 밑에 두칸은 키워드 여러개 검색할 때 창 닫고 다음꺼 클릭하는 부분\n",
    "### 실제로 쓰려면 for문 맨 뒤에 넣으면 될듯\n",
    "### 창 크기 작게해서 X가 안보이게 되면 범위에 없다고 나옴\n",
    "### 최대화 해놓고 다시 실행하면 됨"
   ]
  },
  {
   "cell_type": "code",
   "execution_count": 52,
   "metadata": {},
   "outputs": [],
   "source": [
    "#closebtn=driver.find_element_by_css_selector('#wrap > div.modal.tool-keyword-planner-chart-controller.fade.ng-scope.ng-isolate-scope.in > div > div > div > div.modal-header > div.pull-right.ng-scope > button > i')\n",
    "#closebtn.click()"
   ]
  },
  {
   "cell_type": "code",
   "execution_count": 53,
   "metadata": {},
   "outputs": [],
   "source": [
    "#lookuplist[1].find_elements_by_css_selector('td')[1].find_element_by_css_selector('span > span').click()"
   ]
  },
  {
   "cell_type": "markdown",
   "metadata": {},
   "source": [
    "### id태그 안써도 가능한 지 테스트"
   ]
  },
  {
   "cell_type": "code",
   "execution_count": 37,
   "metadata": {},
   "outputs": [
    {
     "ename": "IndexError",
     "evalue": "list index out of range",
     "output_type": "error",
     "traceback": [
      "\u001b[1;31m---------------------------------------------------------------------------\u001b[0m",
      "\u001b[1;31mIndexError\u001b[0m                                Traceback (most recent call last)",
      "\u001b[1;32m<ipython-input-37-3aaf6b421d79>\u001b[0m in \u001b[0;36m<module>\u001b[1;34m()\u001b[0m\n\u001b[0;32m      1\u001b[0m \u001b[1;31m# 유동적으로 변하는 id 대신 쭉 타고들어감\u001b[0m\u001b[1;33m\u001b[0m\u001b[1;33m\u001b[0m\u001b[0m\n\u001b[1;32m----> 2\u001b[1;33m \u001b[0mdriver\u001b[0m\u001b[1;33m.\u001b[0m\u001b[0mfind_elements_by_css_selector\u001b[0m\u001b[1;33m(\u001b[0m\u001b[1;34m'#wrap > div.modal.tool-keyword-planner-chart-controller.fade.ng-scope.ng-isolate-scope.in > div > div > div > div.modal-body > div > table > tbody > tr:nth-child(1) > td > div > div > table > tbody > tr > td > div > div > svg > g.highcharts-series-group > g.highcharts-series.highcharts-series-1.highcharts-line-series > path.highcharts-graph'\u001b[0m\u001b[1;33m)\u001b[0m\u001b[1;33m[\u001b[0m\u001b[1;36m0\u001b[0m\u001b[1;33m]\u001b[0m\u001b[1;33m.\u001b[0m\u001b[0mget_attribute\u001b[0m\u001b[1;33m(\u001b[0m\u001b[1;34m'd'\u001b[0m\u001b[1;33m)\u001b[0m\u001b[1;33m\u001b[0m\u001b[0m\n\u001b[0m\u001b[0;32m      3\u001b[0m \u001b[1;31m# 원래는 > svg 앞부분이 #highcharts-c85b8hj-0 이딴 식으로 이상하게 변했음\u001b[0m\u001b[1;33m\u001b[0m\u001b[1;33m\u001b[0m\u001b[0m\n\u001b[0;32m      4\u001b[0m \u001b[1;31m#driver.find_elements_by_css_selector('#highcharts-c85b8hj-0 > svg > g.highcharts-series-group > g.highcharts-series.highcharts-series-1.highcharts-line-series > path.highcharts-graph')[0].get_attribute('d')\u001b[0m\u001b[1;33m\u001b[0m\u001b[1;33m\u001b[0m\u001b[0m\n",
      "\u001b[1;31mIndexError\u001b[0m: list index out of range"
     ]
    }
   ],
   "source": [
    "# 유동적으로 변하는 id 대신 쭉 타고들어감\n",
    "driver.find_elements_by_css_selector('#wrap > div.modal.tool-keyword-planner-chart-controller.fade.ng-scope.ng-isolate-scope.in > div > div > div > div.modal-body > div > table > tbody > tr:nth-child(1) > td > div > div > table > tbody > tr > td > div > div > svg > g.highcharts-series-group > g.highcharts-series.highcharts-series-1.highcharts-line-series > path.highcharts-graph')[0].get_attribute('d')\n",
    "# 원래는 > svg 앞부분이 #highcharts-c85b8hj-0 이딴 식으로 이상하게 변했음 \n",
    "#driver.find_elements_by_css_selector('#highcharts-c85b8hj-0 > svg > g.highcharts-series-group > g.highcharts-series.highcharts-series-1.highcharts-line-series > path.highcharts-graph')[0].get_attribute('d')"
   ]
  },
  {
   "cell_type": "markdown",
   "metadata": {},
   "source": [
    "![image.png](attachment:image.png)"
   ]
  },
  {
   "cell_type": "markdown",
   "metadata": {},
   "source": [
    "![image.png](attachment:image.png)"
   ]
  },
  {
   "cell_type": "markdown",
   "metadata": {},
   "source": [
    "![image.png](attachment:image.png)"
   ]
  },
  {
   "cell_type": "markdown",
   "metadata": {},
   "source": [
    "![image.png](attachment:image.png)"
   ]
  },
  {
   "cell_type": "code",
   "execution_count": 39,
   "metadata": {},
   "outputs": [],
   "source": [
    "source=driver.find_element_by_css_selector('#wrap > div.modal.tool-keyword-planner-chart-controller.fade.ng-scope.ng-isolate-scope.in > div > div > div > div.modal-body > div > table > tbody > tr:nth-child(1) > td > div > div > table > tbody > tr > td > div > div')"
   ]
  },
  {
   "cell_type": "code",
   "execution_count": 40,
   "metadata": {},
   "outputs": [
    {
     "data": {
      "text/plain": [
       "<selenium.webdriver.remote.webelement.WebElement (session=\"a3af616edbcf729c3059c3f5583e149e\", element=\"0.46321846073593687-114\")>"
      ]
     },
     "execution_count": 40,
     "metadata": {},
     "output_type": "execute_result"
    }
   ],
   "source": [
    "source"
   ]
  },
  {
   "cell_type": "markdown",
   "metadata": {},
   "source": [
    "### y축 min, max 뽑아옴"
   ]
  },
  {
   "cell_type": "code",
   "execution_count": 41,
   "metadata": {},
   "outputs": [
    {
     "data": {
      "text/plain": [
       "('0', '20k')"
      ]
     },
     "execution_count": 41,
     "metadata": {},
     "output_type": "execute_result"
    }
   ],
   "source": [
    "#yaxis=driver.find_elements_by_css_selector('#highcharts-97jgmyp-168 > svg > g.highcharts-axis-labels.highcharts-yaxis-labels > text')\n",
    "#yaxis=driver.find_elements_by_css_selector('#highcharts-97jgmyp-180 > svg > g.highcharts-axis-labels.highcharts-yaxis-labels > text')\n",
    "yaxis=source.find_elements_by_css_selector('svg > g.highcharts-axis-labels.highcharts-yaxis-labels > text')\n",
    "yaxis[0].text, yaxis[-1].text"
   ]
  },
  {
   "cell_type": "code",
   "execution_count": 42,
   "metadata": {},
   "outputs": [],
   "source": [
    "minmax=[]\n",
    "minmax.append(yaxis[0].text)\n",
    "minmax.append(yaxis[-1].text)"
   ]
  },
  {
   "cell_type": "markdown",
   "metadata": {},
   "source": [
    "### k -> 000 / 1,000 -> 1000 / 2.5k -> 2.5000 -> 25000 -> 2500"
   ]
  },
  {
   "cell_type": "code",
   "execution_count": 43,
   "metadata": {},
   "outputs": [],
   "source": [
    "int_minmax=[]\n",
    "for num in minmax :\n",
    "    num=num.replace('k','000').replace(',','')\n",
    "    if '.' in num :\n",
    "        num=num.replace('.','')\n",
    "        num=int(num)//10\n",
    "    int_minmax.append(int(num))"
   ]
  },
  {
   "cell_type": "code",
   "execution_count": 44,
   "metadata": {},
   "outputs": [
    {
     "data": {
      "text/plain": [
       "[0, 20000]"
      ]
     },
     "execution_count": 44,
     "metadata": {},
     "output_type": "execute_result"
    }
   ],
   "source": [
    "int_minmax"
   ]
  },
  {
   "cell_type": "markdown",
   "metadata": {},
   "source": [
    "### 중간에 g.highcharts-series.highcharts-series-1 부분\n",
    "- series-0 이 desktop\n",
    "- series-1 이 mobile"
   ]
  },
  {
   "cell_type": "code",
   "execution_count": 45,
   "metadata": {},
   "outputs": [],
   "source": [
    "desktop=source.find_element_by_css_selector('svg > g.highcharts-series-group > g.highcharts-series.highcharts-series-0.highcharts-line-series > path.highcharts-graph')\n",
    "mobile=driver.find_element_by_css_selector('svg > g.highcharts-series-group > g.highcharts-series.highcharts-series-1.highcharts-line-series > path.highcharts-graph')"
   ]
  },
  {
   "cell_type": "code",
   "execution_count": 46,
   "metadata": {},
   "outputs": [
    {
     "data": {
      "text/plain": [
       "['M 31.666666666667 93.96',\n",
       " ' 95 84.23999999999998',\n",
       " ' 158.33333333333 100.44',\n",
       " ' 221.66666666667 49.67999999999998',\n",
       " ' 285 93.96',\n",
       " ' 348.33333333333 77.75999999999999',\n",
       " ' 411.66666666667 64.79999999999998',\n",
       " ' 475 63.72',\n",
       " ' 538.33333333333 59.400000000000006',\n",
       " ' 601.66666666667 49.67999999999998',\n",
       " ' 665 69.12',\n",
       " ' 728.33333333333 108']"
      ]
     },
     "execution_count": 46,
     "metadata": {},
     "output_type": "execute_result"
    }
   ],
   "source": [
    "# 12개월치 x, y좌표가 텍스트로 쭉 나와서 찢어버림\n",
    "#desktop.get_attribute('d').split(' L')\n",
    "mobile.get_attribute('d').split(' L')"
   ]
  },
  {
   "cell_type": "code",
   "execution_count": 47,
   "metadata": {},
   "outputs": [],
   "source": [
    "d_y_coords=[]\n",
    "m_y_coords=[]\n",
    "for line in desktop.get_attribute('d').split(' L') :\n",
    "    #위에서 찢어놓은 거 맨 뒤 숫자(y좌표)만 가져와\n",
    "    d_y_coords.append(line.split()[-1])\n",
    "for line in mobile.get_attribute('d').split(' L') :\n",
    "    m_y_coords.append(line.split()[-1])"
   ]
  },
  {
   "cell_type": "code",
   "execution_count": 48,
   "metadata": {},
   "outputs": [
    {
     "data": {
      "text/plain": [
       "(['173.772',\n",
       "  '170.64',\n",
       "  '181.548',\n",
       "  '163.512',\n",
       "  '177.228',\n",
       "  '169.452',\n",
       "  '166.644',\n",
       "  '164.376',\n",
       "  '167.184',\n",
       "  '163.188',\n",
       "  '169.01999999999998',\n",
       "  '182.412'],\n",
       " ['93.96',\n",
       "  '84.23999999999998',\n",
       "  '100.44',\n",
       "  '49.67999999999998',\n",
       "  '93.96',\n",
       "  '77.75999999999999',\n",
       "  '64.79999999999998',\n",
       "  '63.72',\n",
       "  '59.400000000000006',\n",
       "  '49.67999999999998',\n",
       "  '69.12',\n",
       "  '108'])"
      ]
     },
     "execution_count": 48,
     "metadata": {},
     "output_type": "execute_result"
    }
   ],
   "source": [
    "d_y_coords, m_y_coords"
   ]
  },
  {
   "cell_type": "markdown",
   "metadata": {},
   "source": [
    "### ymax - (ymax-ymin)/216 * y좌표 = 검색수"
   ]
  },
  {
   "cell_type": "code",
   "execution_count": 49,
   "metadata": {},
   "outputs": [],
   "source": [
    "d_searchcount=[]\n",
    "m_searchcount=[]\n",
    "for y in d_y_coords :\n",
    "    d_searchcount.append(int_minmax[-1] - (int_minmax[-1]-int_minmax[0])/216*float(y))\n",
    "for y in m_y_coords :\n",
    "    m_searchcount.append(int_minmax[-1] - (int_minmax[-1]-int_minmax[0])/216*float(y))"
   ]
  },
  {
   "cell_type": "code",
   "execution_count": 50,
   "metadata": {},
   "outputs": [
    {
     "data": {
      "text/plain": [
       "[3910.0,\n",
       " 4200.0,\n",
       " 3190.0,\n",
       " 4860.0,\n",
       " 3590.0,\n",
       " 4310.0,\n",
       " 4569.999999999998,\n",
       " 4780.0,\n",
       " 4520.0,\n",
       " 4890.0,\n",
       " 4350.000000000002,\n",
       " 3110.0]"
      ]
     },
     "execution_count": 50,
     "metadata": {},
     "output_type": "execute_result"
    }
   ],
   "source": [
    "d_searchcount"
   ]
  },
  {
   "cell_type": "code",
   "execution_count": 51,
   "metadata": {},
   "outputs": [
    {
     "data": {
      "text/plain": [
       "[11300.0,\n",
       " 12200.000000000002,\n",
       " 10700.0,\n",
       " 15400.000000000002,\n",
       " 11300.0,\n",
       " 12800.0,\n",
       " 14000.000000000002,\n",
       " 14100.0,\n",
       " 14500.0,\n",
       " 15400.000000000002,\n",
       " 13600.0,\n",
       " 10000.0]"
      ]
     },
     "execution_count": 51,
     "metadata": {},
     "output_type": "execute_result"
    }
   ],
   "source": [
    "m_searchcount"
   ]
  },
  {
   "cell_type": "code",
   "execution_count": 52,
   "metadata": {},
   "outputs": [],
   "source": [
    "desktop_cnt=[]\n",
    "mobile_cnt=[]\n",
    "for cnt in d_searchcount :\n",
    "    #소수점 부분 반올림하고 정수단위로\n",
    "    desktop_cnt.append(int(np.round(cnt)))\n",
    "for cnt in m_searchcount :\n",
    "    mobile_cnt.append(int(np.round(cnt)))"
   ]
  },
  {
   "cell_type": "code",
   "execution_count": 53,
   "metadata": {},
   "outputs": [
    {
     "data": {
      "text/plain": [
       "[3910, 4200, 3190, 4860, 3590, 4310, 4570, 4780, 4520, 4890, 4350, 3110]"
      ]
     },
     "execution_count": 53,
     "metadata": {},
     "output_type": "execute_result"
    }
   ],
   "source": [
    "desktop_cnt"
   ]
  },
  {
   "cell_type": "code",
   "execution_count": 54,
   "metadata": {},
   "outputs": [
    {
     "data": {
      "text/plain": [
       "[11300,\n",
       " 12200,\n",
       " 10700,\n",
       " 15400,\n",
       " 11300,\n",
       " 12800,\n",
       " 14000,\n",
       " 14100,\n",
       " 14500,\n",
       " 15400,\n",
       " 13600,\n",
       " 10000]"
      ]
     },
     "execution_count": 54,
     "metadata": {},
     "output_type": "execute_result"
    }
   ],
   "source": [
    "mobile_cnt"
   ]
  },
  {
   "cell_type": "code",
   "execution_count": 55,
   "metadata": {},
   "outputs": [],
   "source": [
    "total_cnt = []\n",
    "for i in zip(desktop_cnt, mobile_cnt):\n",
    "    total_cnt.append(i)"
   ]
  },
  {
   "cell_type": "code",
   "execution_count": 56,
   "metadata": {},
   "outputs": [],
   "source": [
    "result = pd.DataFrame(total_cnt, columns=['desktop','mobile'], index=[10,11,12,1,2,3,4,5,6,7,8,9])"
   ]
  },
  {
   "cell_type": "code",
   "execution_count": 57,
   "metadata": {},
   "outputs": [
    {
     "data": {
      "text/html": [
       "<div>\n",
       "<style scoped>\n",
       "    .dataframe tbody tr th:only-of-type {\n",
       "        vertical-align: middle;\n",
       "    }\n",
       "\n",
       "    .dataframe tbody tr th {\n",
       "        vertical-align: top;\n",
       "    }\n",
       "\n",
       "    .dataframe thead th {\n",
       "        text-align: right;\n",
       "    }\n",
       "</style>\n",
       "<table border=\"1\" class=\"dataframe\">\n",
       "  <thead>\n",
       "    <tr style=\"text-align: right;\">\n",
       "      <th></th>\n",
       "      <th>desktop</th>\n",
       "      <th>mobile</th>\n",
       "    </tr>\n",
       "  </thead>\n",
       "  <tbody>\n",
       "    <tr>\n",
       "      <th>10</th>\n",
       "      <td>3910</td>\n",
       "      <td>11300</td>\n",
       "    </tr>\n",
       "    <tr>\n",
       "      <th>11</th>\n",
       "      <td>4200</td>\n",
       "      <td>12200</td>\n",
       "    </tr>\n",
       "    <tr>\n",
       "      <th>12</th>\n",
       "      <td>3190</td>\n",
       "      <td>10700</td>\n",
       "    </tr>\n",
       "    <tr>\n",
       "      <th>1</th>\n",
       "      <td>4860</td>\n",
       "      <td>15400</td>\n",
       "    </tr>\n",
       "    <tr>\n",
       "      <th>2</th>\n",
       "      <td>3590</td>\n",
       "      <td>11300</td>\n",
       "    </tr>\n",
       "    <tr>\n",
       "      <th>3</th>\n",
       "      <td>4310</td>\n",
       "      <td>12800</td>\n",
       "    </tr>\n",
       "    <tr>\n",
       "      <th>4</th>\n",
       "      <td>4570</td>\n",
       "      <td>14000</td>\n",
       "    </tr>\n",
       "    <tr>\n",
       "      <th>5</th>\n",
       "      <td>4780</td>\n",
       "      <td>14100</td>\n",
       "    </tr>\n",
       "    <tr>\n",
       "      <th>6</th>\n",
       "      <td>4520</td>\n",
       "      <td>14500</td>\n",
       "    </tr>\n",
       "    <tr>\n",
       "      <th>7</th>\n",
       "      <td>4890</td>\n",
       "      <td>15400</td>\n",
       "    </tr>\n",
       "    <tr>\n",
       "      <th>8</th>\n",
       "      <td>4350</td>\n",
       "      <td>13600</td>\n",
       "    </tr>\n",
       "    <tr>\n",
       "      <th>9</th>\n",
       "      <td>3110</td>\n",
       "      <td>10000</td>\n",
       "    </tr>\n",
       "  </tbody>\n",
       "</table>\n",
       "</div>"
      ],
      "text/plain": [
       "    desktop  mobile\n",
       "10     3910   11300\n",
       "11     4200   12200\n",
       "12     3190   10700\n",
       "1      4860   15400\n",
       "2      3590   11300\n",
       "3      4310   12800\n",
       "4      4570   14000\n",
       "5      4780   14100\n",
       "6      4520   14500\n",
       "7      4890   15400\n",
       "8      4350   13600\n",
       "9      3110   10000"
      ]
     },
     "execution_count": 57,
     "metadata": {},
     "output_type": "execute_result"
    }
   ],
   "source": [
    "result"
   ]
  },
  {
   "cell_type": "code",
   "execution_count": null,
   "metadata": {},
   "outputs": [],
   "source": []
  },
  {
   "cell_type": "code",
   "execution_count": 1,
   "metadata": {},
   "outputs": [
    {
     "ename": "NameError",
     "evalue": "name 'webdriver' is not defined",
     "output_type": "error",
     "traceback": [
      "\u001b[1;31m---------------------------------------------------------------------------\u001b[0m",
      "\u001b[1;31mNameError\u001b[0m                                 Traceback (most recent call last)",
      "\u001b[1;32m<ipython-input-1-1c094408e2cc>\u001b[0m in \u001b[0;36m<module>\u001b[1;34m()\u001b[0m\n\u001b[0;32m      1\u001b[0m \u001b[1;31m# Crome Driver 불러오기\u001b[0m\u001b[1;33m\u001b[0m\u001b[1;33m\u001b[0m\u001b[0m\n\u001b[1;32m----> 2\u001b[1;33m \u001b[0mdriver\u001b[0m \u001b[1;33m=\u001b[0m \u001b[0mwebdriver\u001b[0m\u001b[1;33m.\u001b[0m\u001b[0mChrome\u001b[0m\u001b[1;33m(\u001b[0m\u001b[1;34m'C:/driver/chromedriver'\u001b[0m\u001b[1;33m)\u001b[0m\u001b[1;33m\u001b[0m\u001b[0m\n\u001b[0m\u001b[0;32m      3\u001b[0m \u001b[1;33m\u001b[0m\u001b[0m\n\u001b[0;32m      4\u001b[0m \u001b[1;31m# 사이트 이동\u001b[0m\u001b[1;33m\u001b[0m\u001b[1;33m\u001b[0m\u001b[0m\n\u001b[0;32m      5\u001b[0m \u001b[0mdriver\u001b[0m\u001b[1;33m.\u001b[0m\u001b[0mget\u001b[0m\u001b[1;33m(\u001b[0m\u001b[1;34m'https://manage.searchad.naver.com/customers/1488201/tool/keyword-planner'\u001b[0m\u001b[1;33m)\u001b[0m\u001b[1;33m\u001b[0m\u001b[0m\n",
      "\u001b[1;31mNameError\u001b[0m: name 'webdriver' is not defined"
     ]
    }
   ],
   "source": [
    "# Crome Driver 불러오기\n",
    "driver = webdriver.Chrome('C:/driver/chromedriver')\n",
    "\n",
    "# 사이트 이동\n",
    "driver.get('https://manage.searchad.naver.com/customers/1488201/tool/keyword-planner')\n"
   ]
  },
  {
   "cell_type": "markdown",
   "metadata": {},
   "source": [
    "---------------------------------"
   ]
  },
  {
   "cell_type": "markdown",
   "metadata": {},
   "source": [
    "### 최종판"
   ]
  },
  {
   "cell_type": "code",
   "execution_count": 1,
   "metadata": {},
   "outputs": [],
   "source": [
    "from selenium import webdriver\n",
    "import time\n",
    "import numpy as np\n",
    "import pandas as pd"
   ]
  },
  {
   "cell_type": "code",
   "execution_count": 2,
   "metadata": {},
   "outputs": [],
   "source": [
    "# Crome Driver 불러오기\n",
    "driver = webdriver.Chrome('C:/driver/chromedriver')\n",
    "#driver = webdriver.Chrome('/Users/jaewook/driver/chromedriver')\n",
    "\n",
    "# 사이트 이동\n",
    "driver.get('https://manage.searchad.naver.com/customers/1488201/tool/keyword-planner')"
   ]
  },
  {
   "cell_type": "code",
   "execution_count": 37,
   "metadata": {},
   "outputs": [
    {
     "data": {
      "text/plain": [
       "('adsp자격증', desktop    1658\n",
       " mobile     1331\n",
       " Name: 10, dtype: int64)"
      ]
     },
     "execution_count": 37,
     "metadata": {},
     "output_type": "execute_result"
    }
   ],
   "source": [
    "#final_result = []\n",
    "n_keywords = 'adsp자격증'\n",
    "\n",
    "# 키워드 넣기 - 여기서 for문 \n",
    "keyword=driver.find_element_by_css_selector('#wrap > div > div > div.content > div.page-content-wrapper > div > div > div > div.row > div.col-xs-9.reduce-padding > div:nth-child(1) > div.panel-body > form > div:nth-child(1) > div > div > textarea')\n",
    "keyword.send_keys(n_keywords)\n",
    "\n",
    "# 조회하기 클릭\n",
    "lookupbtn=driver.find_element_by_css_selector('#wrap > div > div > div.content > div.page-content-wrapper > div > div > div > div.row > div.col-xs-9.reduce-padding > div:nth-child(1) > div.panel-body > form > div.col-xs-12.bg-fill-white > div > div > ul > li > button')\n",
    "lookupbtn.click()\n",
    "\n",
    "time.sleep(2)\n",
    "\n",
    "# 키워드 리스트 중 제일 위에 나오는 키워드 클릭\n",
    "lookuplist=driver.find_elements_by_css_selector('#wrap > div > div > div.content > div.page-content-wrapper > div > div > div > div.row > div.col-xs-9.reduce-padding > div.panel-wrap.panel.panel-default > div.widget-wrap.compact-tb.bfx4pn.ng-isolate-scope > div > div > table > tbody > tr')\n",
    "\n",
    "lookuplist[0].find_elements_by_css_selector('td')[1].find_element_by_css_selector('span > span').click()\n",
    "\n",
    "time.sleep(2)\n",
    "\n",
    "\n",
    "# 소스 받아오기!\n",
    "source=driver.find_element_by_css_selector('#wrap > div.modal.tool-keyword-planner-chart-controller.fade.ng-scope.ng-isolate-scope.in > div > div > div > div.modal-body > div > table > tbody > tr:nth-child(1) > td > div > div > table > tbody > tr > td > div > div')\n",
    "\n",
    "\n",
    "# 데이터 정제\n",
    "yaxis=source.find_elements_by_css_selector('svg > g.highcharts-axis-labels.highcharts-yaxis-labels > text')\n",
    "yaxis[0].text, yaxis[-1].text\n",
    "\n",
    "minmax=[]\n",
    "minmax.append(yaxis[0].text)\n",
    "minmax.append(yaxis[-1].text)\n",
    "\n",
    "int_minmax=[]\n",
    "for num in minmax :\n",
    "    num=num.replace('k','000').replace(',','')\n",
    "    if '.' in num :\n",
    "        num=num.replace('.','')\n",
    "        num=int(num)//10\n",
    "    int_minmax.append(int(num))\n",
    "    \n",
    "desktop=source.find_element_by_css_selector('svg > g.highcharts-series-group > g.highcharts-series.highcharts-series-0.highcharts-line-series > path.highcharts-graph')\n",
    "mobile=driver.find_element_by_css_selector('svg > g.highcharts-series-group > g.highcharts-series.highcharts-series-1.highcharts-line-series > path.highcharts-graph')\n",
    "\n",
    "# 12개월치 x, y좌표가 텍스트로 쭉 나와서 찢어버림\n",
    "mobile.get_attribute('d').split(' L')\n",
    "\n",
    "\n",
    "d_y_coords=[]\n",
    "m_y_coords=[]\n",
    "for line in desktop.get_attribute('d').split(' L') :\n",
    "    #위에서 찢어놓은 거 맨 뒤 숫자(y좌표)만 가져와\n",
    "    d_y_coords.append(line.split()[-1])\n",
    "for line in mobile.get_attribute('d').split(' L') :\n",
    "    m_y_coords.append(line.split()[-1])\n",
    "    \n",
    "d_searchcount=[]\n",
    "m_searchcount=[]\n",
    "for y in d_y_coords :\n",
    "    d_searchcount.append(int_minmax[-1] - (int_minmax[-1]-int_minmax[0])/216*float(y))\n",
    "for y in m_y_coords :\n",
    "    m_searchcount.append(int_minmax[-1] - (int_minmax[-1]-int_minmax[0])/216*float(y))\n",
    "\n",
    "    \n",
    "desktop_cnt=[]\n",
    "mobile_cnt=[]\n",
    "for cnt in d_searchcount :\n",
    "    #소수점 부분 반올림하고 정수단위로\n",
    "    desktop_cnt.append(int(np.round(cnt)))\n",
    "for cnt in m_searchcount :\n",
    "    mobile_cnt.append(int(np.round(cnt)))\n",
    "\n",
    "\n",
    "total_cnt = []\n",
    "for i in zip(desktop_cnt, mobile_cnt):\n",
    "    total_cnt.append(i)\n",
    "    \n",
    "result = pd.DataFrame(total_cnt, columns=['desktop','mobile'], index=[11,12,1,2,3,4,5,6,7,8,9,10])\n",
    "\n",
    "\n",
    "\n",
    "# 창 끄기\n",
    "closebtn=driver.find_element_by_css_selector('#wrap > div.modal.tool-keyword-planner-chart-controller.fade.ng-scope.ng-isolate-scope.in > div > div > div > div.modal-header > div.pull-right.ng-scope > button > i')\n",
    "closebtn.click()\n",
    "\n",
    "keyword.clear()\n",
    "\n",
    "n_keywords, result.iloc[-1]"
   ]
  },
  {
   "cell_type": "code",
   "execution_count": 50,
   "metadata": {},
   "outputs": [
    {
     "data": {
      "text/plain": [
       "desktop     25200\n",
       "mobile     139000\n",
       "Name: 10, dtype: int64"
      ]
     },
     "execution_count": 50,
     "metadata": {},
     "output_type": "execute_result"
    }
   ],
   "source": [
    "result.iloc[-1]"
   ]
  },
  {
   "cell_type": "code",
   "execution_count": 59,
   "metadata": {},
   "outputs": [],
   "source": [
    "final_result = []"
   ]
  },
  {
   "cell_type": "code",
   "execution_count": 60,
   "metadata": {},
   "outputs": [],
   "source": [
    "final_result.append([n_keywords, desktop_cnt[-1], mobile_cnt[-1]])"
   ]
  },
  {
   "cell_type": "code",
   "execution_count": 13,
   "metadata": {},
   "outputs": [
    {
     "ename": "NameError",
     "evalue": "name 'final_result' is not defined",
     "output_type": "error",
     "traceback": [
      "\u001b[0;31m---------------------------------------------------------------------------\u001b[0m",
      "\u001b[0;31mNameError\u001b[0m                                 Traceback (most recent call last)",
      "\u001b[0;32m<ipython-input-13-5ad65733a493>\u001b[0m in \u001b[0;36m<module>\u001b[0;34m()\u001b[0m\n\u001b[0;32m----> 1\u001b[0;31m \u001b[0mfinal_result\u001b[0m\u001b[0;34m\u001b[0m\u001b[0m\n\u001b[0m",
      "\u001b[0;31mNameError\u001b[0m: name 'final_result' is not defined"
     ]
    }
   ],
   "source": [
    "final_result"
   ]
  },
  {
   "cell_type": "code",
   "execution_count": 62,
   "metadata": {},
   "outputs": [],
   "source": [
    "final_result.append(['일본여행',100,100])"
   ]
  },
  {
   "cell_type": "code",
   "execution_count": 63,
   "metadata": {},
   "outputs": [
    {
     "data": {
      "text/plain": [
       "[['대만여행', 25200, 139000], ['일본여행', 100, 100]]"
      ]
     },
     "execution_count": 63,
     "metadata": {},
     "output_type": "execute_result"
    }
   ],
   "source": [
    "final_result"
   ]
  },
  {
   "cell_type": "code",
   "execution_count": 66,
   "metadata": {},
   "outputs": [
    {
     "data": {
      "text/html": [
       "<div>\n",
       "<style scoped>\n",
       "    .dataframe tbody tr th:only-of-type {\n",
       "        vertical-align: middle;\n",
       "    }\n",
       "\n",
       "    .dataframe tbody tr th {\n",
       "        vertical-align: top;\n",
       "    }\n",
       "\n",
       "    .dataframe thead th {\n",
       "        text-align: right;\n",
       "    }\n",
       "</style>\n",
       "<table border=\"1\" class=\"dataframe\">\n",
       "  <thead>\n",
       "    <tr style=\"text-align: right;\">\n",
       "      <th></th>\n",
       "      <th>key</th>\n",
       "      <th>desk</th>\n",
       "      <th>mobile</th>\n",
       "    </tr>\n",
       "  </thead>\n",
       "  <tbody>\n",
       "    <tr>\n",
       "      <th>0</th>\n",
       "      <td>대만여행</td>\n",
       "      <td>25200</td>\n",
       "      <td>139000</td>\n",
       "    </tr>\n",
       "    <tr>\n",
       "      <th>1</th>\n",
       "      <td>일본여행</td>\n",
       "      <td>100</td>\n",
       "      <td>100</td>\n",
       "    </tr>\n",
       "  </tbody>\n",
       "</table>\n",
       "</div>"
      ],
      "text/plain": [
       "    key   desk  mobile\n",
       "0  대만여행  25200  139000\n",
       "1  일본여행    100     100"
      ]
     },
     "execution_count": 66,
     "metadata": {},
     "output_type": "execute_result"
    }
   ],
   "source": [
    "pd.DataFrame(final_result, columns=['key','desk','mobile'])"
   ]
  },
  {
   "cell_type": "code",
   "execution_count": 7,
   "metadata": {},
   "outputs": [
    {
     "data": {
      "text/plain": [
       "[3077, 3711, 3196, 3910, 3365, 4108, 3513, 5425, 5406, 4791, 5188, 5604]"
      ]
     },
     "execution_count": 7,
     "metadata": {},
     "output_type": "execute_result"
    }
   ],
   "source": [
    "desktop_cnt"
   ]
  },
  {
   "cell_type": "markdown",
   "metadata": {},
   "source": [
    "---"
   ]
  },
  {
   "cell_type": "code",
   "execution_count": 15,
   "metadata": {
    "scrolled": true
   },
   "outputs": [
    {
     "data": {
      "text/html": [
       "<div>\n",
       "<style scoped>\n",
       "    .dataframe tbody tr th:only-of-type {\n",
       "        vertical-align: middle;\n",
       "    }\n",
       "\n",
       "    .dataframe tbody tr th {\n",
       "        vertical-align: top;\n",
       "    }\n",
       "\n",
       "    .dataframe thead th {\n",
       "        text-align: right;\n",
       "    }\n",
       "</style>\n",
       "<table border=\"1\" class=\"dataframe\">\n",
       "  <thead>\n",
       "    <tr style=\"text-align: right;\">\n",
       "      <th></th>\n",
       "      <th>0</th>\n",
       "    </tr>\n",
       "  </thead>\n",
       "  <tbody>\n",
       "    <tr>\n",
       "      <th>0</th>\n",
       "      <td>괌롯데호텔</td>\n",
       "    </tr>\n",
       "    <tr>\n",
       "      <th>1</th>\n",
       "      <td>라세느</td>\n",
       "    </tr>\n",
       "    <tr>\n",
       "      <th>2</th>\n",
       "      <td>라세느뷔페</td>\n",
       "    </tr>\n",
       "    <tr>\n",
       "      <th>3</th>\n",
       "      <td>라센느</td>\n",
       "    </tr>\n",
       "    <tr>\n",
       "      <th>4</th>\n",
       "      <td>롯데라세느</td>\n",
       "    </tr>\n",
       "    <tr>\n",
       "      <th>5</th>\n",
       "      <td>롯데리조트속초</td>\n",
       "    </tr>\n",
       "    <tr>\n",
       "      <th>6</th>\n",
       "      <td>롯데호텔</td>\n",
       "    </tr>\n",
       "    <tr>\n",
       "      <th>7</th>\n",
       "      <td>롯데호텔괌</td>\n",
       "    </tr>\n",
       "    <tr>\n",
       "      <th>8</th>\n",
       "      <td>롯데호텔도림</td>\n",
       "    </tr>\n",
       "    <tr>\n",
       "      <th>9</th>\n",
       "      <td>롯데호텔라세느</td>\n",
       "    </tr>\n",
       "    <tr>\n",
       "      <th>10</th>\n",
       "      <td>롯데호텔레스토랑</td>\n",
       "    </tr>\n",
       "    <tr>\n",
       "      <th>11</th>\n",
       "      <td>롯데호텔모모야마</td>\n",
       "    </tr>\n",
       "    <tr>\n",
       "      <th>12</th>\n",
       "      <td>롯데호텔무궁화</td>\n",
       "    </tr>\n",
       "    <tr>\n",
       "      <th>13</th>\n",
       "      <td>롯데호텔부페</td>\n",
       "    </tr>\n",
       "    <tr>\n",
       "      <th>14</th>\n",
       "      <td>롯데호텔뷔페</td>\n",
       "    </tr>\n",
       "    <tr>\n",
       "      <th>15</th>\n",
       "      <td>롯데호텔수영장</td>\n",
       "    </tr>\n",
       "    <tr>\n",
       "      <th>16</th>\n",
       "      <td>롯데호텔예약</td>\n",
       "    </tr>\n",
       "    <tr>\n",
       "      <th>17</th>\n",
       "      <td>롯데호텔울산</td>\n",
       "    </tr>\n",
       "    <tr>\n",
       "      <th>18</th>\n",
       "      <td>롯데호텔웨딩</td>\n",
       "    </tr>\n",
       "    <tr>\n",
       "      <th>19</th>\n",
       "      <td>롯데호텔패키지</td>\n",
       "    </tr>\n",
       "    <tr>\n",
       "      <th>20</th>\n",
       "      <td>롯데호텔페닌슐라</td>\n",
       "    </tr>\n",
       "    <tr>\n",
       "      <th>21</th>\n",
       "      <td>롯데호텔프리빌리지</td>\n",
       "    </tr>\n",
       "    <tr>\n",
       "      <th>22</th>\n",
       "      <td>롯데호텔하노이</td>\n",
       "    </tr>\n",
       "    <tr>\n",
       "      <th>23</th>\n",
       "      <td>롯데호텔할인</td>\n",
       "    </tr>\n",
       "    <tr>\n",
       "      <th>24</th>\n",
       "      <td>베트남롯데호텔</td>\n",
       "    </tr>\n",
       "    <tr>\n",
       "      <th>25</th>\n",
       "      <td>양곤롯데호텔</td>\n",
       "    </tr>\n",
       "    <tr>\n",
       "      <th>26</th>\n",
       "      <td>울산롯데호텔</td>\n",
       "    </tr>\n",
       "    <tr>\n",
       "      <th>27</th>\n",
       "      <td>하노이롯데호텔</td>\n",
       "    </tr>\n",
       "    <tr>\n",
       "      <th>28</th>\n",
       "      <td>호치민롯데호텔</td>\n",
       "    </tr>\n",
       "    <tr>\n",
       "      <th>29</th>\n",
       "      <td>호텔롯데</td>\n",
       "    </tr>\n",
       "  </tbody>\n",
       "</table>\n",
       "</div>"
      ],
      "text/plain": [
       "            0\n",
       "0       괌롯데호텔\n",
       "1         라세느\n",
       "2       라세느뷔페\n",
       "3         라센느\n",
       "4       롯데라세느\n",
       "5     롯데리조트속초\n",
       "6        롯데호텔\n",
       "7       롯데호텔괌\n",
       "8      롯데호텔도림\n",
       "9     롯데호텔라세느\n",
       "10   롯데호텔레스토랑\n",
       "11   롯데호텔모모야마\n",
       "12    롯데호텔무궁화\n",
       "13     롯데호텔부페\n",
       "14     롯데호텔뷔페\n",
       "15    롯데호텔수영장\n",
       "16     롯데호텔예약\n",
       "17     롯데호텔울산\n",
       "18     롯데호텔웨딩\n",
       "19    롯데호텔패키지\n",
       "20   롯데호텔페닌슐라\n",
       "21  롯데호텔프리빌리지\n",
       "22    롯데호텔하노이\n",
       "23     롯데호텔할인\n",
       "24    베트남롯데호텔\n",
       "25     양곤롯데호텔\n",
       "26     울산롯데호텔\n",
       "27    하노이롯데호텔\n",
       "28    호치민롯데호텔\n",
       "29       호텔롯데"
      ]
     },
     "execution_count": 15,
     "metadata": {},
     "output_type": "execute_result"
    }
   ],
   "source": [
    "kw = pd.read_csv('C:/Users/전재욱/Documents/keywords.csv', engine='python', header=None)\n",
    "kw"
   ]
  },
  {
   "cell_type": "code",
   "execution_count": 23,
   "metadata": {},
   "outputs": [
    {
     "data": {
      "text/plain": [
       "pandas.core.series.Series"
      ]
     },
     "execution_count": 23,
     "metadata": {},
     "output_type": "execute_result"
    }
   ],
   "source": [
    "type(kw.iloc[:,0])"
   ]
  },
  {
   "cell_type": "code",
   "execution_count": 24,
   "metadata": {},
   "outputs": [],
   "source": [
    "#keyword_list = ['adsp','adsp강의','빅데이터','머신러닝','롯데호텔','호텔롯데','괌롯데호텔','라세느']\n",
    "keyword_list = kw.iloc[:,0]"
   ]
  },
  {
   "cell_type": "code",
   "execution_count": 25,
   "metadata": {
    "scrolled": true
   },
   "outputs": [
    {
     "data": {
      "text/plain": [
       "0         괌롯데호텔\n",
       "1           라세느\n",
       "2         라세느뷔페\n",
       "3           라센느\n",
       "4         롯데라세느\n",
       "5       롯데리조트속초\n",
       "6          롯데호텔\n",
       "7         롯데호텔괌\n",
       "8        롯데호텔도림\n",
       "9       롯데호텔라세느\n",
       "10     롯데호텔레스토랑\n",
       "11     롯데호텔모모야마\n",
       "12      롯데호텔무궁화\n",
       "13       롯데호텔부페\n",
       "14       롯데호텔뷔페\n",
       "15      롯데호텔수영장\n",
       "16       롯데호텔예약\n",
       "17       롯데호텔울산\n",
       "18       롯데호텔웨딩\n",
       "19      롯데호텔패키지\n",
       "20     롯데호텔페닌슐라\n",
       "21    롯데호텔프리빌리지\n",
       "22      롯데호텔하노이\n",
       "23       롯데호텔할인\n",
       "24      베트남롯데호텔\n",
       "25       양곤롯데호텔\n",
       "26       울산롯데호텔\n",
       "27      하노이롯데호텔\n",
       "28      호치민롯데호텔\n",
       "29         호텔롯데\n",
       "Name: 0, dtype: object"
      ]
     },
     "execution_count": 25,
     "metadata": {},
     "output_type": "execute_result"
    }
   ],
   "source": [
    "keyword_list"
   ]
  },
  {
   "cell_type": "code",
   "execution_count": 34,
   "metadata": {},
   "outputs": [
    {
     "name": "stdout",
     "output_type": "stream",
     "text": [
      "\"괌롯데호텔\" 키워드 정보 수집에 성공했습니다.\n",
      "\"라세느\" 키워드 정보 수집에 성공했습니다.\n",
      "\"라세느뷔페\" 키워드 정보 수집에 성공했습니다.\n",
      "\"라센느\" 키워드 정보 수집에 성공했습니다.\n",
      "\"롯데라세느\" 키워드 정보 수집에 성공했습니다.\n",
      "\"롯데리조트속초\" 키워드 정보 수집에 성공했습니다.\n",
      "\"롯데호텔\" 키워드 정보 수집에 성공했습니다.\n",
      "\"롯데호텔괌\" 키워드 정보 수집에 성공했습니다.\n",
      "\"롯데호텔도림\" 키워드 정보 수집에 성공했습니다.\n",
      "\"롯데호텔라세느\" 키워드 정보 수집에 성공했습니다.\n",
      "\"롯데호텔레스토랑\" 키워드 정보 수집에 성공했습니다.\n",
      "\"롯데호텔모모야마\" 키워드 정보 수집에 성공했습니다.\n",
      "\"롯데호텔무궁화\" 키워드 정보 수집에 성공했습니다.\n",
      "\"롯데호텔부페\" 키워드 정보 수집에 성공했습니다.\n",
      "\"롯데호텔뷔페\" 키워드 정보 수집에 성공했습니다.\n",
      "\"롯데호텔수영장\" 키워드 정보 수집에 성공했습니다.\n",
      "\"롯데호텔예약\" 키워드 정보 수집에 성공했습니다.\n",
      "\"롯데호텔울산\" 키워드 정보 수집에 성공했습니다.\n",
      "\"롯데호텔웨딩\" 키워드 정보 수집에 성공했습니다.\n",
      "\"롯데호텔패키지\" 키워드 정보 수집에 성공했습니다.\n",
      "\"롯데호텔페닌슐라\" 키워드 정보 수집에 성공했습니다.\n",
      "\"롯데호텔프리빌리지\" 키워드 정보 수집에 성공했습니다.\n",
      "\"롯데호텔하노이\" 키워드 정보 수집에 성공했습니다.\n",
      "\"롯데호텔할인\" 키워드 정보 수집에 성공했습니다.\n",
      "\"베트남롯데호텔\" 키워드 정보 수집에 성공했습니다.\n",
      "\"양곤롯데호텔\" 키워드 정보 수집에 성공했습니다.\n",
      "\"울산롯데호텔\" 키워드 정보 수집에 성공했습니다.\n",
      "\"하노이롯데호텔\" 키워드 정보 수집에 성공했습니다.\n",
      "\"호치민롯데호텔\" 키워드 정보 수집에 성공했습니다.\n",
      "\"호텔롯데\" 키워드 정보 수집에 성공했습니다.\n"
     ]
    }
   ],
   "source": [
    "final_result = []\n",
    "#n_keywords = 'adsp자격증'\n",
    "\n",
    "for i in keyword_list:\n",
    "    # 키워드 넣기 - 여기서 for문 \n",
    "    keyword=driver.find_element_by_css_selector('#wrap > div > div > div.content > div.page-content-wrapper > div > div > div > div.row > div.col-xs-9.reduce-padding > div:nth-child(1) > div.panel-body > form > div:nth-child(1) > div > div > textarea')\n",
    "    keyword.send_keys(i)\n",
    "\n",
    "    # 조회하기 클릭\n",
    "    lookupbtn=driver.find_element_by_css_selector('#wrap > div > div > div.content > div.page-content-wrapper > div > div > div > div.row > div.col-xs-9.reduce-padding > div:nth-child(1) > div.panel-body > form > div.col-xs-12.bg-fill-white > div > div > ul > li > button')\n",
    "    lookupbtn.click()\n",
    "\n",
    "    time.sleep(3)\n",
    "\n",
    "    # 키워드 리스트 중 제일 위에 나오는 키워드 클릭\n",
    "    lookuplist=driver.find_elements_by_css_selector('#wrap > div > div > div.content > div.page-content-wrapper > div > div > div > div.row > div.col-xs-9.reduce-padding > div.panel-wrap.panel.panel-default > div.widget-wrap.compact-tb.bfx4pn.ng-isolate-scope > div > div > table > tbody > tr')\n",
    "\n",
    "    lookuplist[0].find_elements_by_css_selector('td')[1].find_element_by_css_selector('span > span').click()\n",
    "\n",
    "    time.sleep(3)\n",
    "\n",
    "\n",
    "    # 소스 받아오기!\n",
    "    source=driver.find_element_by_css_selector('#wrap > div.modal.tool-keyword-planner-chart-controller.fade.ng-scope.ng-isolate-scope.in > div > div > div > div.modal-body > div > table > tbody > tr:nth-child(1) > td > div > div > table > tbody > tr > td > div > div')\n",
    "\n",
    "\n",
    "    # 데이터 정제\n",
    "    yaxis=source.find_elements_by_css_selector('svg > g.highcharts-axis-labels.highcharts-yaxis-labels > text')\n",
    "    yaxis[0].text, yaxis[-1].text\n",
    "\n",
    "    minmax=[]\n",
    "    minmax.append(yaxis[0].text)\n",
    "    minmax.append(yaxis[-1].text)\n",
    "\n",
    "    int_minmax=[]\n",
    "    for num in minmax :\n",
    "        num=num.replace('k','000').replace(',','')\n",
    "        if '.' in num :\n",
    "            num=num.replace('.','')\n",
    "            num=int(num)//10\n",
    "        int_minmax.append(int(num))\n",
    "\n",
    "    desktop=source.find_element_by_css_selector('svg > g.highcharts-series-group > g.highcharts-series.highcharts-series-0.highcharts-line-series > path.highcharts-graph')\n",
    "    mobile=driver.find_element_by_css_selector('svg > g.highcharts-series-group > g.highcharts-series.highcharts-series-1.highcharts-line-series > path.highcharts-graph')\n",
    "\n",
    "    # 12개월치 x, y좌표가 텍스트로 쭉 나와서 찢어버림\n",
    "    mobile.get_attribute('d').split(' L')\n",
    "\n",
    "\n",
    "    d_y_coords=[]\n",
    "    m_y_coords=[]\n",
    "    for line in desktop.get_attribute('d').split(' L') :\n",
    "        #위에서 찢어놓은 거 맨 뒤 숫자(y좌표)만 가져와\n",
    "        d_y_coords.append(line.split()[-1])\n",
    "    for line in mobile.get_attribute('d').split(' L') :\n",
    "        m_y_coords.append(line.split()[-1])\n",
    "\n",
    "    d_searchcount=[]\n",
    "    m_searchcount=[]\n",
    "    for y in d_y_coords :\n",
    "        d_searchcount.append(int_minmax[-1] - (int_minmax[-1]-int_minmax[0])/216*float(y))\n",
    "    for y in m_y_coords :\n",
    "        m_searchcount.append(int_minmax[-1] - (int_minmax[-1]-int_minmax[0])/216*float(y))\n",
    "\n",
    "\n",
    "    desktop_cnt=[]\n",
    "    mobile_cnt=[]\n",
    "    for cnt in d_searchcount :\n",
    "        #소수점 부분 반올림하고 정수단위로\n",
    "        desktop_cnt.append(int(np.round(cnt)))\n",
    "    for cnt in m_searchcount :\n",
    "        mobile_cnt.append(int(np.round(cnt)))\n",
    "\n",
    "\n",
    "    #total_cnt = []\n",
    "    #for i in zip(desktop_cnt, mobile_cnt):\n",
    "    #    total_cnt.append(i)\n",
    "\n",
    "    #result = pd.DataFrame(total_cnt, columns=['desktop','mobile'], index=[11,12,1,2,3,4,5,6,7,8,9,10])\n",
    "\n",
    "    final_result.append([i, desktop_cnt[-1], mobile_cnt[-1]])\n",
    "    print('\"{}\" 키워드 정보 수집에 성공했습니다.'.format(i))\n",
    "\n",
    "    # 창 끄기\n",
    "    closebtn=driver.find_element_by_css_selector('#wrap > div.modal.tool-keyword-planner-chart-controller.fade.ng-scope.ng-isolate-scope.in > div > div > div > div.modal-header > div.pull-right.ng-scope > button > i')\n",
    "    closebtn.click()\n",
    "\n",
    "    keyword.clear()\n",
    "    time.sleep(2)\n",
    "#n_keywords, result.iloc[-1]"
   ]
  },
  {
   "cell_type": "code",
   "execution_count": 35,
   "metadata": {
    "scrolled": true
   },
   "outputs": [
    {
     "data": {
      "text/html": [
       "<div>\n",
       "<style scoped>\n",
       "    .dataframe tbody tr th:only-of-type {\n",
       "        vertical-align: middle;\n",
       "    }\n",
       "\n",
       "    .dataframe tbody tr th {\n",
       "        vertical-align: top;\n",
       "    }\n",
       "\n",
       "    .dataframe thead th {\n",
       "        text-align: right;\n",
       "    }\n",
       "</style>\n",
       "<table border=\"1\" class=\"dataframe\">\n",
       "  <thead>\n",
       "    <tr style=\"text-align: right;\">\n",
       "      <th></th>\n",
       "      <th>keywords</th>\n",
       "      <th>desk</th>\n",
       "      <th>mobile</th>\n",
       "    </tr>\n",
       "  </thead>\n",
       "  <tbody>\n",
       "    <tr>\n",
       "      <th>0</th>\n",
       "      <td>괌롯데호텔</td>\n",
       "      <td>4070</td>\n",
       "      <td>11700</td>\n",
       "    </tr>\n",
       "    <tr>\n",
       "      <th>1</th>\n",
       "      <td>라세느</td>\n",
       "      <td>5780</td>\n",
       "      <td>16300</td>\n",
       "    </tr>\n",
       "    <tr>\n",
       "      <th>2</th>\n",
       "      <td>라세느뷔페</td>\n",
       "      <td>1070</td>\n",
       "      <td>3820</td>\n",
       "    </tr>\n",
       "    <tr>\n",
       "      <th>3</th>\n",
       "      <td>라센느</td>\n",
       "      <td>1040</td>\n",
       "      <td>3790</td>\n",
       "    </tr>\n",
       "    <tr>\n",
       "      <th>4</th>\n",
       "      <td>롯데라세느</td>\n",
       "      <td>1700</td>\n",
       "      <td>5020</td>\n",
       "    </tr>\n",
       "    <tr>\n",
       "      <th>5</th>\n",
       "      <td>롯데리조트속초</td>\n",
       "      <td>4450</td>\n",
       "      <td>15100</td>\n",
       "    </tr>\n",
       "    <tr>\n",
       "      <th>6</th>\n",
       "      <td>롯데호텔</td>\n",
       "      <td>23800</td>\n",
       "      <td>40100</td>\n",
       "    </tr>\n",
       "    <tr>\n",
       "      <th>7</th>\n",
       "      <td>롯데호텔괌</td>\n",
       "      <td>890</td>\n",
       "      <td>1720</td>\n",
       "    </tr>\n",
       "    <tr>\n",
       "      <th>8</th>\n",
       "      <td>롯데호텔도림</td>\n",
       "      <td>960</td>\n",
       "      <td>3000</td>\n",
       "    </tr>\n",
       "    <tr>\n",
       "      <th>9</th>\n",
       "      <td>롯데호텔라세느</td>\n",
       "      <td>11800</td>\n",
       "      <td>47800</td>\n",
       "    </tr>\n",
       "    <tr>\n",
       "      <th>10</th>\n",
       "      <td>롯데호텔레스토랑</td>\n",
       "      <td>240</td>\n",
       "      <td>680</td>\n",
       "    </tr>\n",
       "    <tr>\n",
       "      <th>11</th>\n",
       "      <td>롯데호텔모모야마</td>\n",
       "      <td>390</td>\n",
       "      <td>1730</td>\n",
       "    </tr>\n",
       "    <tr>\n",
       "      <th>12</th>\n",
       "      <td>롯데호텔무궁화</td>\n",
       "      <td>630</td>\n",
       "      <td>1280</td>\n",
       "    </tr>\n",
       "    <tr>\n",
       "      <th>13</th>\n",
       "      <td>롯데호텔부페</td>\n",
       "      <td>600</td>\n",
       "      <td>1310</td>\n",
       "    </tr>\n",
       "    <tr>\n",
       "      <th>14</th>\n",
       "      <td>롯데호텔뷔페</td>\n",
       "      <td>2190</td>\n",
       "      <td>8630</td>\n",
       "    </tr>\n",
       "    <tr>\n",
       "      <th>15</th>\n",
       "      <td>롯데호텔수영장</td>\n",
       "      <td>100</td>\n",
       "      <td>210</td>\n",
       "    </tr>\n",
       "    <tr>\n",
       "      <th>16</th>\n",
       "      <td>롯데호텔예약</td>\n",
       "      <td>100</td>\n",
       "      <td>170</td>\n",
       "    </tr>\n",
       "    <tr>\n",
       "      <th>17</th>\n",
       "      <td>롯데호텔울산</td>\n",
       "      <td>980</td>\n",
       "      <td>2120</td>\n",
       "    </tr>\n",
       "    <tr>\n",
       "      <th>18</th>\n",
       "      <td>롯데호텔웨딩</td>\n",
       "      <td>180</td>\n",
       "      <td>680</td>\n",
       "    </tr>\n",
       "    <tr>\n",
       "      <th>19</th>\n",
       "      <td>롯데호텔패키지</td>\n",
       "      <td>340</td>\n",
       "      <td>670</td>\n",
       "    </tr>\n",
       "    <tr>\n",
       "      <th>20</th>\n",
       "      <td>롯데호텔페닌슐라</td>\n",
       "      <td>230</td>\n",
       "      <td>460</td>\n",
       "    </tr>\n",
       "    <tr>\n",
       "      <th>21</th>\n",
       "      <td>롯데호텔프리빌리지</td>\n",
       "      <td>300</td>\n",
       "      <td>290</td>\n",
       "    </tr>\n",
       "    <tr>\n",
       "      <th>22</th>\n",
       "      <td>롯데호텔하노이</td>\n",
       "      <td>570</td>\n",
       "      <td>1070</td>\n",
       "    </tr>\n",
       "    <tr>\n",
       "      <th>23</th>\n",
       "      <td>롯데호텔할인</td>\n",
       "      <td>50</td>\n",
       "      <td>150</td>\n",
       "    </tr>\n",
       "    <tr>\n",
       "      <th>24</th>\n",
       "      <td>베트남롯데호텔</td>\n",
       "      <td>120</td>\n",
       "      <td>410</td>\n",
       "    </tr>\n",
       "    <tr>\n",
       "      <th>25</th>\n",
       "      <td>양곤롯데호텔</td>\n",
       "      <td>80</td>\n",
       "      <td>360</td>\n",
       "    </tr>\n",
       "    <tr>\n",
       "      <th>26</th>\n",
       "      <td>울산롯데호텔</td>\n",
       "      <td>1860</td>\n",
       "      <td>5320</td>\n",
       "    </tr>\n",
       "    <tr>\n",
       "      <th>27</th>\n",
       "      <td>하노이롯데호텔</td>\n",
       "      <td>1250</td>\n",
       "      <td>3560</td>\n",
       "    </tr>\n",
       "    <tr>\n",
       "      <th>28</th>\n",
       "      <td>호치민롯데호텔</td>\n",
       "      <td>160</td>\n",
       "      <td>400</td>\n",
       "    </tr>\n",
       "    <tr>\n",
       "      <th>29</th>\n",
       "      <td>호텔롯데</td>\n",
       "      <td>1200</td>\n",
       "      <td>1070</td>\n",
       "    </tr>\n",
       "  </tbody>\n",
       "</table>\n",
       "</div>"
      ],
      "text/plain": [
       "     keywords   desk  mobile\n",
       "0       괌롯데호텔   4070   11700\n",
       "1         라세느   5780   16300\n",
       "2       라세느뷔페   1070    3820\n",
       "3         라센느   1040    3790\n",
       "4       롯데라세느   1700    5020\n",
       "5     롯데리조트속초   4450   15100\n",
       "6        롯데호텔  23800   40100\n",
       "7       롯데호텔괌    890    1720\n",
       "8      롯데호텔도림    960    3000\n",
       "9     롯데호텔라세느  11800   47800\n",
       "10   롯데호텔레스토랑    240     680\n",
       "11   롯데호텔모모야마    390    1730\n",
       "12    롯데호텔무궁화    630    1280\n",
       "13     롯데호텔부페    600    1310\n",
       "14     롯데호텔뷔페   2190    8630\n",
       "15    롯데호텔수영장    100     210\n",
       "16     롯데호텔예약    100     170\n",
       "17     롯데호텔울산    980    2120\n",
       "18     롯데호텔웨딩    180     680\n",
       "19    롯데호텔패키지    340     670\n",
       "20   롯데호텔페닌슐라    230     460\n",
       "21  롯데호텔프리빌리지    300     290\n",
       "22    롯데호텔하노이    570    1070\n",
       "23     롯데호텔할인     50     150\n",
       "24    베트남롯데호텔    120     410\n",
       "25     양곤롯데호텔     80     360\n",
       "26     울산롯데호텔   1860    5320\n",
       "27    하노이롯데호텔   1250    3560\n",
       "28    호치민롯데호텔    160     400\n",
       "29       호텔롯데   1200    1070"
      ]
     },
     "execution_count": 35,
     "metadata": {},
     "output_type": "execute_result"
    }
   ],
   "source": [
    "df = pd.DataFrame(final_result, columns=['keywords','desk','mobile'])\n",
    "df"
   ]
  },
  {
   "cell_type": "code",
   "execution_count": 33,
   "metadata": {
    "scrolled": true
   },
   "outputs": [
    {
     "data": {
      "text/html": [
       "<div>\n",
       "<style scoped>\n",
       "    .dataframe tbody tr th:only-of-type {\n",
       "        vertical-align: middle;\n",
       "    }\n",
       "\n",
       "    .dataframe tbody tr th {\n",
       "        vertical-align: top;\n",
       "    }\n",
       "\n",
       "    .dataframe thead th {\n",
       "        text-align: right;\n",
       "    }\n",
       "</style>\n",
       "<table border=\"1\" class=\"dataframe\">\n",
       "  <thead>\n",
       "    <tr style=\"text-align: right;\">\n",
       "      <th></th>\n",
       "      <th>keywords</th>\n",
       "      <th>desk</th>\n",
       "      <th>mobile</th>\n",
       "    </tr>\n",
       "  </thead>\n",
       "  <tbody>\n",
       "    <tr>\n",
       "      <th>6</th>\n",
       "      <td>롯데호텔</td>\n",
       "      <td>23800</td>\n",
       "      <td>40100</td>\n",
       "    </tr>\n",
       "    <tr>\n",
       "      <th>9</th>\n",
       "      <td>롯데호텔라세느</td>\n",
       "      <td>11800</td>\n",
       "      <td>47800</td>\n",
       "    </tr>\n",
       "    <tr>\n",
       "      <th>1</th>\n",
       "      <td>라세느</td>\n",
       "      <td>5780</td>\n",
       "      <td>16300</td>\n",
       "    </tr>\n",
       "    <tr>\n",
       "      <th>5</th>\n",
       "      <td>롯데리조트속초</td>\n",
       "      <td>4450</td>\n",
       "      <td>15100</td>\n",
       "    </tr>\n",
       "    <tr>\n",
       "      <th>0</th>\n",
       "      <td>괌롯데호텔</td>\n",
       "      <td>4070</td>\n",
       "      <td>11700</td>\n",
       "    </tr>\n",
       "    <tr>\n",
       "      <th>14</th>\n",
       "      <td>롯데호텔뷔페</td>\n",
       "      <td>2190</td>\n",
       "      <td>8630</td>\n",
       "    </tr>\n",
       "    <tr>\n",
       "      <th>26</th>\n",
       "      <td>울산롯데호텔</td>\n",
       "      <td>1860</td>\n",
       "      <td>5320</td>\n",
       "    </tr>\n",
       "    <tr>\n",
       "      <th>4</th>\n",
       "      <td>롯데라세느</td>\n",
       "      <td>1700</td>\n",
       "      <td>5020</td>\n",
       "    </tr>\n",
       "    <tr>\n",
       "      <th>27</th>\n",
       "      <td>하노이롯데호텔</td>\n",
       "      <td>1250</td>\n",
       "      <td>3560</td>\n",
       "    </tr>\n",
       "    <tr>\n",
       "      <th>29</th>\n",
       "      <td>호텔롯데</td>\n",
       "      <td>1200</td>\n",
       "      <td>1070</td>\n",
       "    </tr>\n",
       "    <tr>\n",
       "      <th>2</th>\n",
       "      <td>라세느뷔페</td>\n",
       "      <td>1070</td>\n",
       "      <td>3820</td>\n",
       "    </tr>\n",
       "    <tr>\n",
       "      <th>3</th>\n",
       "      <td>라센느</td>\n",
       "      <td>1040</td>\n",
       "      <td>3790</td>\n",
       "    </tr>\n",
       "    <tr>\n",
       "      <th>17</th>\n",
       "      <td>롯데호텔울산</td>\n",
       "      <td>980</td>\n",
       "      <td>2120</td>\n",
       "    </tr>\n",
       "    <tr>\n",
       "      <th>8</th>\n",
       "      <td>롯데호텔도림</td>\n",
       "      <td>960</td>\n",
       "      <td>3000</td>\n",
       "    </tr>\n",
       "    <tr>\n",
       "      <th>7</th>\n",
       "      <td>롯데호텔괌</td>\n",
       "      <td>890</td>\n",
       "      <td>1720</td>\n",
       "    </tr>\n",
       "    <tr>\n",
       "      <th>12</th>\n",
       "      <td>롯데호텔무궁화</td>\n",
       "      <td>630</td>\n",
       "      <td>1280</td>\n",
       "    </tr>\n",
       "    <tr>\n",
       "      <th>13</th>\n",
       "      <td>롯데호텔부페</td>\n",
       "      <td>600</td>\n",
       "      <td>1310</td>\n",
       "    </tr>\n",
       "    <tr>\n",
       "      <th>22</th>\n",
       "      <td>롯데호텔하노이</td>\n",
       "      <td>570</td>\n",
       "      <td>1070</td>\n",
       "    </tr>\n",
       "    <tr>\n",
       "      <th>11</th>\n",
       "      <td>롯데호텔모모야마</td>\n",
       "      <td>390</td>\n",
       "      <td>1730</td>\n",
       "    </tr>\n",
       "    <tr>\n",
       "      <th>19</th>\n",
       "      <td>롯데호텔패키지</td>\n",
       "      <td>340</td>\n",
       "      <td>670</td>\n",
       "    </tr>\n",
       "    <tr>\n",
       "      <th>21</th>\n",
       "      <td>롯데호텔프리빌리지</td>\n",
       "      <td>300</td>\n",
       "      <td>290</td>\n",
       "    </tr>\n",
       "    <tr>\n",
       "      <th>10</th>\n",
       "      <td>롯데호텔레스토랑</td>\n",
       "      <td>240</td>\n",
       "      <td>680</td>\n",
       "    </tr>\n",
       "    <tr>\n",
       "      <th>20</th>\n",
       "      <td>롯데호텔페닌슐라</td>\n",
       "      <td>230</td>\n",
       "      <td>460</td>\n",
       "    </tr>\n",
       "    <tr>\n",
       "      <th>18</th>\n",
       "      <td>롯데호텔웨딩</td>\n",
       "      <td>180</td>\n",
       "      <td>680</td>\n",
       "    </tr>\n",
       "    <tr>\n",
       "      <th>28</th>\n",
       "      <td>호치민롯데호텔</td>\n",
       "      <td>160</td>\n",
       "      <td>400</td>\n",
       "    </tr>\n",
       "    <tr>\n",
       "      <th>24</th>\n",
       "      <td>베트남롯데호텔</td>\n",
       "      <td>120</td>\n",
       "      <td>410</td>\n",
       "    </tr>\n",
       "    <tr>\n",
       "      <th>16</th>\n",
       "      <td>롯데호텔예약</td>\n",
       "      <td>100</td>\n",
       "      <td>170</td>\n",
       "    </tr>\n",
       "    <tr>\n",
       "      <th>15</th>\n",
       "      <td>롯데호텔수영장</td>\n",
       "      <td>100</td>\n",
       "      <td>210</td>\n",
       "    </tr>\n",
       "    <tr>\n",
       "      <th>25</th>\n",
       "      <td>양곤롯데호텔</td>\n",
       "      <td>80</td>\n",
       "      <td>360</td>\n",
       "    </tr>\n",
       "    <tr>\n",
       "      <th>23</th>\n",
       "      <td>롯데호텔할인</td>\n",
       "      <td>50</td>\n",
       "      <td>150</td>\n",
       "    </tr>\n",
       "  </tbody>\n",
       "</table>\n",
       "</div>"
      ],
      "text/plain": [
       "     keywords   desk  mobile\n",
       "6        롯데호텔  23800   40100\n",
       "9     롯데호텔라세느  11800   47800\n",
       "1         라세느   5780   16300\n",
       "5     롯데리조트속초   4450   15100\n",
       "0       괌롯데호텔   4070   11700\n",
       "14     롯데호텔뷔페   2190    8630\n",
       "26     울산롯데호텔   1860    5320\n",
       "4       롯데라세느   1700    5020\n",
       "27    하노이롯데호텔   1250    3560\n",
       "29       호텔롯데   1200    1070\n",
       "2       라세느뷔페   1070    3820\n",
       "3         라센느   1040    3790\n",
       "17     롯데호텔울산    980    2120\n",
       "8      롯데호텔도림    960    3000\n",
       "7       롯데호텔괌    890    1720\n",
       "12    롯데호텔무궁화    630    1280\n",
       "13     롯데호텔부페    600    1310\n",
       "22    롯데호텔하노이    570    1070\n",
       "11   롯데호텔모모야마    390    1730\n",
       "19    롯데호텔패키지    340     670\n",
       "21  롯데호텔프리빌리지    300     290\n",
       "10   롯데호텔레스토랑    240     680\n",
       "20   롯데호텔페닌슐라    230     460\n",
       "18     롯데호텔웨딩    180     680\n",
       "28    호치민롯데호텔    160     400\n",
       "24    베트남롯데호텔    120     410\n",
       "16     롯데호텔예약    100     170\n",
       "15    롯데호텔수영장    100     210\n",
       "25     양곤롯데호텔     80     360\n",
       "23     롯데호텔할인     50     150"
      ]
     },
     "execution_count": 33,
     "metadata": {},
     "output_type": "execute_result"
    }
   ],
   "source": [
    "pd.DataFrame(final_result, columns=['keywords','desk','mobile']).sort_values(by=['desk'],ascending=False)"
   ]
  },
  {
   "cell_type": "code",
   "execution_count": 36,
   "metadata": {},
   "outputs": [],
   "source": [
    "df.to_csv('C:/Users/전재욱/Documents/nkeywords.csv', encoding='euc_kr')"
   ]
  },
  {
   "cell_type": "code",
   "execution_count": null,
   "metadata": {},
   "outputs": [],
   "source": []
  }
 ],
 "metadata": {
  "kernelspec": {
   "display_name": "Python 3",
   "language": "python",
   "name": "python3"
  },
  "language_info": {
   "codemirror_mode": {
    "name": "ipython",
    "version": 3
   },
   "file_extension": ".py",
   "mimetype": "text/x-python",
   "name": "python",
   "nbconvert_exporter": "python",
   "pygments_lexer": "ipython3",
   "version": "3.6.7"
  }
 },
 "nbformat": 4,
 "nbformat_minor": 2
}
